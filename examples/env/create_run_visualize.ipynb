{
 "cells": [
  {
   "attachments": {},
   "cell_type": "markdown",
   "metadata": {
    "id": "wkR0YvENQni4"
   },
   "source": [
    "**Setup dependencies**"
   ]
  },
  {
   "cell_type": "code",
   "execution_count": 14,
   "metadata": {
    "colab": {
     "base_uri": "https://localhost:8080/"
    },
    "id": "n1sQVa5mkMEA",
    "outputId": "dbfa09f5-0fd9-4a51-f728-fc62230f1b84"
   },
   "outputs": [
    {
     "name": "stdout",
     "output_type": "stream",
     "text": [
      "bin\t\t\t     pyproject.toml\n",
      "build\t\t\t     README.md\n",
      "CHANGELOG.md\t\t     requirements.txt\n",
      "cli\t\t\t     scenarios\n",
      "docs\t\t\t     setup.cfg\n",
      "envision\t\t     setup.py\n",
      "examples\t\t     smarts\n",
      "LICENSE\t\t\t     smarts.egg-info\n",
      "Makefile\t\t     THIRD_PARTY_OPEN_SOURCE_SOFTWARE_NOTICE\n",
      "MANIFEST.in\t\t     utils\n",
      "NOTICE\t\t\t     zoo\n",
      "OPEN_SOURCE_SOFTWARE_NOTICE\n",
      "Already on 'tucker/fix_for_python_3_10'\n",
      "Your branch is up to date with 'origin/tucker/fix_for_python_3_10'.\n",
      "Processing /home/dev/Desktop/repos/NewSMARTS/SMARTS/examples/env/SMARTS\n",
      "  Installing build dependencies ... \u001b[?25ldone\n",
      "\u001b[?25h  Getting requirements to build wheel ... \u001b[?25ldone\n",
      "\u001b[?25h  Preparing metadata (pyproject.toml) ... \u001b[?25ldone\n",
      "\u001b[?25hRequirement already satisfied: numpy<1.24.0,>=1.19.5 in /home/dev/anaconda3/lib/python3.9/site-packages (from smarts==1.2.0) (1.21.5)\n",
      "Requirement already satisfied: pybullet<4.0,>=3 in /home/dev/anaconda3/lib/python3.9/site-packages (from smarts==1.2.0) (3.0.6)\n",
      "Requirement already satisfied: shapely>=2.0.0 in /home/dev/anaconda3/lib/python3.9/site-packages (from smarts==1.2.0) (2.0.0)\n",
      "Requirement already satisfied: psutil>=5.4.8 in /home/dev/anaconda3/lib/python3.9/site-packages (from smarts==1.2.0) (5.8.0)\n",
      "Requirement already satisfied: yattag>=1.14.0 in /home/dev/anaconda3/lib/python3.9/site-packages (from smarts==1.2.0) (1.14.0)\n",
      "Requirement already satisfied: twisted>=21.7.0 in /home/dev/anaconda3/lib/python3.9/site-packages (from smarts==1.2.0) (22.2.0)\n",
      "Requirement already satisfied: trimesh==3.9.29 in /home/dev/anaconda3/lib/python3.9/site-packages (from smarts==1.2.0) (3.9.29)\n",
      "Requirement already satisfied: PyYAML>=3.13 in /home/dev/anaconda3/lib/python3.9/site-packages (from smarts==1.2.0) (6.0)\n",
      "Requirement already satisfied: click>=7.1.2 in /home/dev/anaconda3/lib/python3.9/site-packages (from smarts==1.2.0) (8.0.4)\n",
      "Requirement already satisfied: setuptools!=50.0,>=41.0.0 in /home/dev/anaconda3/lib/python3.9/site-packages (from smarts==1.2.0) (62.4.0)\n",
      "Requirement already satisfied: tableprint>=0.9.1 in /home/dev/anaconda3/lib/python3.9/site-packages (from smarts==1.2.0) (0.9.1)\n",
      "Requirement already satisfied: cloudpickle>=1.3.0 in /home/dev/anaconda3/lib/python3.9/site-packages (from smarts==1.2.0) (1.6.0)\n",
      "Requirement already satisfied: Panda3D>=1.10.13 in /home/dev/anaconda3/lib/python3.9/site-packages (from smarts==1.2.0) (1.10.13)\n",
      "Requirement already satisfied: panda3d-gltf==0.13 in /home/dev/anaconda3/lib/python3.9/site-packages (from smarts==1.2.0) (0.13)\n",
      "Requirement already satisfied: gymnasium>=0.26.3 in /home/dev/anaconda3/lib/python3.9/site-packages (from smarts==1.2.0) (0.27.0)\n",
      "Collecting moviepy==1.0.3\n",
      "  Using cached moviepy-1.0.3.tar.gz (388 kB)\n",
      "  Preparing metadata (setup.py) ... \u001b[?25ldone\n",
      "\u001b[?25hCollecting decorator<5.0,>=4.0.2\n",
      "  Using cached decorator-4.4.2-py2.py3-none-any.whl (9.2 kB)\n",
      "Requirement already satisfied: tqdm<5.0,>=4.11.2 in /home/dev/anaconda3/lib/python3.9/site-packages (from moviepy==1.0.3->smarts==1.2.0) (4.64.0)\n",
      "Requirement already satisfied: requests<3.0,>=2.8.1 in /home/dev/anaconda3/lib/python3.9/site-packages (from moviepy==1.0.3->smarts==1.2.0) (2.27.1)\n",
      "Collecting proglog<=1.0.0\n",
      "  Using cached proglog-0.1.10-py3-none-any.whl (6.1 kB)\n",
      "Requirement already satisfied: imageio<3.0,>=2.5 in /home/dev/anaconda3/lib/python3.9/site-packages (from moviepy==1.0.3->smarts==1.2.0) (2.9.0)\n",
      "Collecting imageio_ffmpeg>=0.2.0\n",
      "  Downloading imageio_ffmpeg-0.4.8-py3-none-manylinux2010_x86_64.whl (26.9 MB)\n",
      "\u001b[2K     \u001b[90m━━━━━━━━━━━━━━━━━━━━━━━━━━━━━━━━━━━━━━━━\u001b[0m \u001b[32m26.9/26.9 MB\u001b[0m \u001b[31m17.5 MB/s\u001b[0m eta \u001b[36m0:00:00\u001b[0m00:01\u001b[0m00:01\u001b[0m\n",
      "\u001b[?25hRequirement already satisfied: panda3d-simplepbr>=0.6 in /home/dev/anaconda3/lib/python3.9/site-packages (from panda3d-gltf==0.13->smarts==1.2.0) (0.10)\n",
      "Requirement already satisfied: typing-extensions>=4.3.0 in /home/dev/anaconda3/lib/python3.9/site-packages (from gymnasium>=0.26.3->smarts==1.2.0) (4.4.0)\n",
      "Requirement already satisfied: importlib-metadata>=4.8.0 in /home/dev/anaconda3/lib/python3.9/site-packages (from gymnasium>=0.26.3->smarts==1.2.0) (4.11.3)\n",
      "Requirement already satisfied: jax-jumpy>=0.2.0 in /home/dev/anaconda3/lib/python3.9/site-packages (from gymnasium>=0.26.3->smarts==1.2.0) (0.2.0)\n",
      "Requirement already satisfied: shimmy<1.0,>=0.1.0 in /home/dev/anaconda3/lib/python3.9/site-packages (from gymnasium>=0.26.3->smarts==1.2.0) (0.2.0)\n",
      "Requirement already satisfied: gymnasium-notices>=0.0.1 in /home/dev/anaconda3/lib/python3.9/site-packages (from gymnasium>=0.26.3->smarts==1.2.0) (0.0.1)\n",
      "Requirement already satisfied: wcwidth in /home/dev/anaconda3/lib/python3.9/site-packages (from tableprint>=0.9.1->smarts==1.2.0) (0.2.5)\n",
      "Requirement already satisfied: future in /home/dev/anaconda3/lib/python3.9/site-packages (from tableprint>=0.9.1->smarts==1.2.0) (0.18.2)\n",
      "Requirement already satisfied: Automat>=0.8.0 in /home/dev/anaconda3/lib/python3.9/site-packages (from twisted>=21.7.0->smarts==1.2.0) (20.2.0)\n",
      "Requirement already satisfied: hyperlink>=17.1.1 in /home/dev/anaconda3/lib/python3.9/site-packages (from twisted>=21.7.0->smarts==1.2.0) (21.0.0)\n",
      "Requirement already satisfied: attrs>=19.2.0 in /home/dev/anaconda3/lib/python3.9/site-packages (from twisted>=21.7.0->smarts==1.2.0) (21.4.0)\n",
      "Requirement already satisfied: incremental>=21.3.0 in /home/dev/anaconda3/lib/python3.9/site-packages (from twisted>=21.7.0->smarts==1.2.0) (21.3.0)\n",
      "Requirement already satisfied: zope.interface>=4.4.2 in /home/dev/anaconda3/lib/python3.9/site-packages (from twisted>=21.7.0->smarts==1.2.0) (5.4.0)\n",
      "Requirement already satisfied: constantly>=15.1 in /home/dev/anaconda3/lib/python3.9/site-packages (from twisted>=21.7.0->smarts==1.2.0) (15.1.0)\n",
      "Requirement already satisfied: six in /home/dev/anaconda3/lib/python3.9/site-packages (from Automat>=0.8.0->twisted>=21.7.0->smarts==1.2.0) (1.16.0)\n",
      "Requirement already satisfied: idna>=2.5 in /home/dev/anaconda3/lib/python3.9/site-packages (from hyperlink>=17.1.1->twisted>=21.7.0->smarts==1.2.0) (3.3)\n",
      "Requirement already satisfied: pillow in /home/dev/anaconda3/lib/python3.9/site-packages (from imageio<3.0,>=2.5->moviepy==1.0.3->smarts==1.2.0) (9.0.1)\n",
      "Requirement already satisfied: zipp>=0.5 in /home/dev/anaconda3/lib/python3.9/site-packages (from importlib-metadata>=4.8.0->gymnasium>=0.26.3->smarts==1.2.0) (3.7.0)\n",
      "Requirement already satisfied: certifi>=2017.4.17 in /home/dev/anaconda3/lib/python3.9/site-packages (from requests<3.0,>=2.8.1->moviepy==1.0.3->smarts==1.2.0) (2021.10.8)\n",
      "Requirement already satisfied: charset-normalizer~=2.0.0 in /home/dev/anaconda3/lib/python3.9/site-packages (from requests<3.0,>=2.8.1->moviepy==1.0.3->smarts==1.2.0) (2.0.4)\n",
      "Requirement already satisfied: urllib3<1.27,>=1.21.1 in /home/dev/anaconda3/lib/python3.9/site-packages (from requests<3.0,>=2.8.1->moviepy==1.0.3->smarts==1.2.0) (1.26.9)\n",
      "Building wheels for collected packages: moviepy, smarts\n",
      "  Building wheel for moviepy (setup.py) ... \u001b[?25ldone\n",
      "\u001b[?25h  Created wheel for moviepy: filename=moviepy-1.0.3-py3-none-any.whl size=110728 sha256=f3110e73cc9850ecb8e1f827b95b39c95d0ab0df9ae75f932cf448a5982012ca\n",
      "  Stored in directory: /home/dev/.cache/pip/wheels/29/15/e4/4f790bec6acd51a00b67e8ee1394f0bc6e0135c315f8ff399a\n",
      "  Building wheel for smarts (pyproject.toml) ... \u001b[?25ldone\n",
      "\u001b[?25h  Created wheel for smarts: filename=smarts-1.2.0-py3-none-any.whl size=4939762 sha256=663d1f1175e8e44fa68807df91a65bc30b7a848fae073220b5176b868ba2d091\n",
      "  Stored in directory: /tmp/pip-ephem-wheel-cache-f13rj5n1/wheels/ff/c6/e9/9e392e904766950bcdba442a8fc5371db1890dc0cb7e6dddcc\n",
      "Successfully built moviepy smarts\n",
      "Installing collected packages: proglog, imageio_ffmpeg, decorator, moviepy, smarts\n",
      "  Attempting uninstall: decorator\n",
      "    Found existing installation: decorator 5.1.1\n",
      "    Uninstalling decorator-5.1.1:\n",
      "      Successfully uninstalled decorator-5.1.1\n",
      "  Attempting uninstall: smarts\n",
      "    Found existing installation: smarts 1.2.0\n",
      "    Uninstalling smarts-1.2.0:\n",
      "      Successfully uninstalled smarts-1.2.0\n",
      "Successfully installed decorator-4.4.2 imageio_ffmpeg-0.4.8 moviepy-1.0.3 proglog-0.1.10 smarts-1.2.0\n",
      "\n",
      "\u001b[1m[\u001b[0m\u001b[34;49mnotice\u001b[0m\u001b[1;39;49m]\u001b[0m\u001b[39;49m A new release of pip available: \u001b[0m\u001b[31;49m22.1.2\u001b[0m\u001b[39;49m -> \u001b[0m\u001b[32;49m23.1.2\u001b[0m\n",
      "\u001b[1m[\u001b[0m\u001b[34;49mnotice\u001b[0m\u001b[1;39;49m]\u001b[0m\u001b[39;49m To update, run: \u001b[0m\u001b[32;49mpip install --upgrade pip\u001b[0m\n"
     ]
    }
   ],
   "source": [
    "!git clone https://github.com/huawei-noah/SMARTS 2> /dev/null\n",
    "!cd SMARTS && ls && git checkout tucker/fix_for_python_3_10 && pip install .[camera_obs,gymnasium,gif_recorder]"
   ]
  },
  {
   "cell_type": "code",
   "execution_count": 2,
   "metadata": {},
   "outputs": [
    {
     "name": "stdout",
     "output_type": "stream",
     "text": [
      "panda3d-gltf==0.13\n",
      "panda3d-simplepbr==0.10\n",
      "pandas==1.4.2\n"
     ]
    }
   ],
   "source": [
    "!pip freeze | grep panda"
   ]
  },
  {
   "cell_type": "code",
   "execution_count": 11,
   "metadata": {
    "colab": {
     "base_uri": "https://localhost:8080/"
    },
    "id": "ubc6jEAqiCEq",
    "outputId": "16e9facc-86bc-4f72-a4f2-2d8bb2961435"
   },
   "outputs": [
    {
     "name": "stdout",
     "output_type": "stream",
     "text": [
      "/home/dev/Desktop/repos/NewSMARTS/SMARTS/examples/env/SMARTS\n"
     ]
    }
   ],
   "source": [
    "import os\n",
    "import sys\n",
    "from pathlib import Path\n",
    "\n",
    "sys.path.insert(0, Path(os.path.abspath(\"\")).parents[1])\n",
    "print(Path(os.path.abspath(\"\"))/\"SMARTS\")"
   ]
  },
  {
   "attachments": {},
   "cell_type": "markdown",
   "metadata": {
    "id": "s7UtcphinvNv"
   },
   "source": [
    "**Import Base Modules**"
   ]
  },
  {
   "cell_type": "code",
   "execution_count": 12,
   "metadata": {
    "id": "HsnDWYx_ngdc"
   },
   "outputs": [],
   "source": [
    "import gymnasium as gym\n",
    "\n",
    "from smarts.zoo import registry\n",
    "from smarts.env.gymnasium.wrappers.episode_logger import EpisodeLogger"
   ]
  },
  {
   "attachments": {},
   "cell_type": "markdown",
   "metadata": {
    "id": "LFoG7Z-FobPP"
   },
   "source": [
    "**Run an episode**"
   ]
  },
  {
   "cell_type": "code",
   "execution_count": 17,
   "metadata": {
    "colab": {
     "base_uri": "https://localhost:8080/",
     "height": 501
    },
    "id": "BBWj3wbAso3J",
    "outputId": "63c1d665-b4a5-43b5-d926-b02b5bcce08f"
   },
   "outputs": [
    {
     "name": "stderr",
     "output_type": "stream",
     "text": [
      "/home/dev/anaconda3/lib/python3.9/site-packages/gymnasium/envs/registration.py:520: UserWarning: \u001b[33mWARN: Overriding environment figure_eight-v0 already in registry.\u001b[0m\n",
      "  logger.warn(f\"Overriding environment {new_spec.id} already in registry.\")\n"
     ]
    },
    {
     "ename": "AssertionError",
     "evalue": "action space does not inherit from `gymnasium.spaces.Space`, actual type: <class 'NoneType'>",
     "output_type": "error",
     "traceback": [
      "\u001b[0;31m---------------------------------------------------------------------------\u001b[0m",
      "\u001b[0;31mAssertionError\u001b[0m                            Traceback (most recent call last)",
      "\u001b[1;32m/home/dev/Desktop/repos/NewSMARTS/SMARTS/examples/env/create_run_visualize.ipynb Cell 8\u001b[0m in \u001b[0;36m<cell line: 7>\u001b[0;34m()\u001b[0m\n\u001b[1;32m      <a href='vscode-notebook-cell:/home/dev/Desktop/repos/NewSMARTS/SMARTS/examples/env/create_run_visualize.ipynb#W6sZmlsZQ%3D%3D?line=2'>3</a>\u001b[0m \u001b[39mfrom\u001b[39;00m \u001b[39msmarts\u001b[39;00m\u001b[39m.\u001b[39;00m\u001b[39mcore\u001b[39;00m\u001b[39m.\u001b[39;00m\u001b[39mutils\u001b[39;00m\u001b[39m.\u001b[39;00m\u001b[39mimport_utils\u001b[39;00m \u001b[39mimport\u001b[39;00m import_module_from_file\n\u001b[1;32m      <a href='vscode-notebook-cell:/home/dev/Desktop/repos/NewSMARTS/SMARTS/examples/env/create_run_visualize.ipynb#W6sZmlsZQ%3D%3D?line=4'>5</a>\u001b[0m import_module_from_file(\u001b[39m\"\u001b[39m\u001b[39mexamples.env.figure_eight_env\u001b[39m\u001b[39m\"\u001b[39m, Path(os\u001b[39m.\u001b[39mpath\u001b[39m.\u001b[39mabspath(\u001b[39m\"\u001b[39m\u001b[39m\"\u001b[39m))\u001b[39m/\u001b[39m\u001b[39m\"\u001b[39m\u001b[39mfigure_eight_env.py\u001b[39m\u001b[39m\"\u001b[39m)\n\u001b[0;32m----> <a href='vscode-notebook-cell:/home/dev/Desktop/repos/NewSMARTS/SMARTS/examples/env/create_run_visualize.ipynb#W6sZmlsZQ%3D%3D?line=6'>7</a>\u001b[0m env \u001b[39m=\u001b[39m gym\u001b[39m.\u001b[39;49mmake(\u001b[39m\"\u001b[39;49m\u001b[39mfigure_eight-v0\u001b[39;49m\u001b[39m\"\u001b[39;49m)\n\u001b[1;32m      <a href='vscode-notebook-cell:/home/dev/Desktop/repos/NewSMARTS/SMARTS/examples/env/create_run_visualize.ipynb#W6sZmlsZQ%3D%3D?line=7'>8</a>\u001b[0m env: gym\u001b[39m.\u001b[39mEnv \u001b[39m=\u001b[39m RecordVideo(\n\u001b[1;32m      <a href='vscode-notebook-cell:/home/dev/Desktop/repos/NewSMARTS/SMARTS/examples/env/create_run_visualize.ipynb#W6sZmlsZQ%3D%3D?line=8'>9</a>\u001b[0m     env, video_folder\u001b[39m=\u001b[39m\u001b[39m\"\u001b[39m\u001b[39mvideos\u001b[39m\u001b[39m\"\u001b[39m, video_length\u001b[39m=\u001b[39m\u001b[39m40\u001b[39m, step_trigger\u001b[39m=\u001b[39m\u001b[39mlambda\u001b[39;00m s: s \u001b[39m%\u001b[39m \u001b[39m100\u001b[39m \u001b[39m==\u001b[39m \u001b[39m0\u001b[39m\n\u001b[1;32m     <a href='vscode-notebook-cell:/home/dev/Desktop/repos/NewSMARTS/SMARTS/examples/env/create_run_visualize.ipynb#W6sZmlsZQ%3D%3D?line=9'>10</a>\u001b[0m )\n\u001b[1;32m     <a href='vscode-notebook-cell:/home/dev/Desktop/repos/NewSMARTS/SMARTS/examples/env/create_run_visualize.ipynb#W6sZmlsZQ%3D%3D?line=10'>11</a>\u001b[0m env: gym\u001b[39m.\u001b[39mEnv \u001b[39m=\u001b[39m EpisodeLogger(env)\n",
      "File \u001b[0;32m~/anaconda3/lib/python3.9/site-packages/gymnasium/envs/registration.py:670\u001b[0m, in \u001b[0;36mmake\u001b[0;34m(id, max_episode_steps, autoreset, apply_api_compatibility, disable_env_checker, **kwargs)\u001b[0m\n\u001b[1;32m    666\u001b[0m \u001b[39m# Run the environment checker as the lowest level wrapper\u001b[39;00m\n\u001b[1;32m    667\u001b[0m \u001b[39mif\u001b[39;00m disable_env_checker \u001b[39mis\u001b[39;00m \u001b[39mFalse\u001b[39;00m \u001b[39mor\u001b[39;00m (\n\u001b[1;32m    668\u001b[0m     disable_env_checker \u001b[39mis\u001b[39;00m \u001b[39mNone\u001b[39;00m \u001b[39mand\u001b[39;00m spec_\u001b[39m.\u001b[39mdisable_env_checker \u001b[39mis\u001b[39;00m \u001b[39mFalse\u001b[39;00m\n\u001b[1;32m    669\u001b[0m ):\n\u001b[0;32m--> 670\u001b[0m     env \u001b[39m=\u001b[39m PassiveEnvChecker(env)\n\u001b[1;32m    672\u001b[0m \u001b[39m# Add the order enforcing wrapper\u001b[39;00m\n\u001b[1;32m    673\u001b[0m \u001b[39mif\u001b[39;00m spec_\u001b[39m.\u001b[39morder_enforce:\n",
      "File \u001b[0;32m~/anaconda3/lib/python3.9/site-packages/gymnasium/wrappers/env_checker.py:23\u001b[0m, in \u001b[0;36mPassiveEnvChecker.__init__\u001b[0;34m(self, env)\u001b[0m\n\u001b[1;32m     18\u001b[0m \u001b[39msuper\u001b[39m()\u001b[39m.\u001b[39m\u001b[39m__init__\u001b[39m(env)\n\u001b[1;32m     20\u001b[0m \u001b[39massert\u001b[39;00m \u001b[39mhasattr\u001b[39m(\n\u001b[1;32m     21\u001b[0m     env, \u001b[39m\"\u001b[39m\u001b[39maction_space\u001b[39m\u001b[39m\"\u001b[39m\n\u001b[1;32m     22\u001b[0m ), \u001b[39m\"\u001b[39m\u001b[39mThe environment must specify an action space. https://gymnasium.farama.org/content/environment_creation/\u001b[39m\u001b[39m\"\u001b[39m\n\u001b[0;32m---> 23\u001b[0m check_action_space(env\u001b[39m.\u001b[39;49maction_space)\n\u001b[1;32m     24\u001b[0m \u001b[39massert\u001b[39;00m \u001b[39mhasattr\u001b[39m(\n\u001b[1;32m     25\u001b[0m     env, \u001b[39m\"\u001b[39m\u001b[39mobservation_space\u001b[39m\u001b[39m\"\u001b[39m\n\u001b[1;32m     26\u001b[0m ), \u001b[39m\"\u001b[39m\u001b[39mThe environment must specify an observation space. https://gymnasium.farama.org/content/environment_creation/\u001b[39m\u001b[39m\"\u001b[39m\n\u001b[1;32m     27\u001b[0m check_observation_space(env\u001b[39m.\u001b[39mobservation_space)\n",
      "File \u001b[0;32m~/anaconda3/lib/python3.9/site-packages/gymnasium/utils/passive_env_checker.py:90\u001b[0m, in \u001b[0;36mcheck_space\u001b[0;34m(space, space_type, check_box_space_fn)\u001b[0m\n\u001b[1;32m     88\u001b[0m \u001b[39m\"\"\"A passive check of the environment action space that should not affect the environment.\"\"\"\u001b[39;00m\n\u001b[1;32m     89\u001b[0m \u001b[39mif\u001b[39;00m \u001b[39mnot\u001b[39;00m \u001b[39misinstance\u001b[39m(space, spaces\u001b[39m.\u001b[39mSpace):\n\u001b[0;32m---> 90\u001b[0m     \u001b[39mraise\u001b[39;00m \u001b[39mAssertionError\u001b[39;00m(\n\u001b[1;32m     91\u001b[0m         \u001b[39mf\u001b[39m\u001b[39m\"\u001b[39m\u001b[39m{\u001b[39;00mspace_type\u001b[39m}\u001b[39;00m\u001b[39m space does not inherit from `gymnasium.spaces.Space`, actual type: \u001b[39m\u001b[39m{\u001b[39;00m\u001b[39mtype\u001b[39m(space)\u001b[39m}\u001b[39;00m\u001b[39m\"\u001b[39m\n\u001b[1;32m     92\u001b[0m     )\n\u001b[1;32m     94\u001b[0m \u001b[39melif\u001b[39;00m \u001b[39misinstance\u001b[39m(space, spaces\u001b[39m.\u001b[39mBox):\n\u001b[1;32m     95\u001b[0m     check_box_space_fn(space)\n",
      "\u001b[0;31mAssertionError\u001b[0m: action space does not inherit from `gymnasium.spaces.Space`, actual type: <class 'NoneType'>"
     ]
    }
   ],
   "source": [
    "from smarts.core.utils.episodes import episode_range\n",
    "from smarts.env.wrappers.record_video import RecordVideo\n",
    "from smarts.core.utils.import_utils import import_module_from_file\n",
    "\n",
    "import_module_from_file(\"examples.env.figure_eight_env\", Path(os.path.abspath(\"\"))/\"figure_eight_env.py\")\n",
    "\n",
    "env = gym.make(\"figure_eight-v0\", disable_env_checker=True)\n",
    "env: gym.Env = RecordVideo(\n",
    "    env, video_folder=\"videos\", video_length=40, step_trigger=lambda s: s % 100 == 0\n",
    ")\n",
    "env: gym.Env = EpisodeLogger(env)\n",
    "\n",
    "import zoo.policies.keep_lane_agent\n",
    "\n",
    "agent = registry.make_agent(\"zoo.policies:keep-lane-agent-v0\")\n",
    "\n",
    "for episode in episode_range(max_steps=450):\n",
    "    observation = env.reset()\n",
    "    reward, done, info = None, False, None\n",
    "    while episode.continues(observation, reward, done, info):\n",
    "        action = agent.act(observation)\n",
    "        observation, reward, done, info = env.step(action)\n",
    "\n",
    "env.close()"
   ]
  },
  {
   "cell_type": "code",
   "execution_count": null,
   "metadata": {},
   "outputs": [],
   "source": [
    "from smarts.env.wrappers.utils.rendering import show_notebook_videos\n",
    "\n",
    "show_notebook_videos()"
   ]
  }
 ],
 "metadata": {
  "colab": {
   "name": "mock_demo.ipynb",
   "provenance": []
  },
  "kernelspec": {
   "display_name": "Python 3.8.10 ('.venv': venv)",
   "language": "python",
   "name": "python3"
  },
  "language_info": {
   "codemirror_mode": {
    "name": "ipython",
    "version": 3
   },
   "file_extension": ".py",
   "mimetype": "text/x-python",
   "name": "python",
   "nbconvert_exporter": "python",
   "pygments_lexer": "ipython3",
   "version": "3.9.12"
  },
  "vscode": {
   "interpreter": {
    "hash": "94261e0756b8490ed1a668b85ed1da8c98261f1072b842b18d4e3da7517b644d"
   }
  }
 },
 "nbformat": 4,
 "nbformat_minor": 0
}
