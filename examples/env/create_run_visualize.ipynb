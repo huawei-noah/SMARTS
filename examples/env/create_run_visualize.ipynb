{
 "cells": [
  {
   "cell_type": "markdown",
   "metadata": {
    "id": "wkR0YvENQni4"
   },
   "source": [
    "**Setup dependencies**"
   ]
  },
  {
   "cell_type": "code",
   "execution_count": null,
   "metadata": {
    "colab": {
     "base_uri": "https://localhost:8080/"
    },
    "id": "n1sQVa5mkMEA",
    "outputId": "dbfa09f5-0fd9-4a51-f728-fc62230f1b84"
   },
   "outputs": [],
   "source": [
    "!git clone https://github.com/huawei-noah/SMARTS 2> /dev/null\n",
    "!cd SMARTS && ls && git checkout develop && pip install .[camera_obs]"
   ]
  },
  {
   "cell_type": "code",
   "execution_count": null,
   "metadata": {
    "colab": {
     "base_uri": "https://localhost:8080/"
    },
    "id": "ubc6jEAqiCEq",
    "outputId": "16e9facc-86bc-4f72-a4f2-2d8bb2961435"
   },
   "outputs": [],
   "source": [
    "import sys\n",
    "\n",
    "sys.path.insert(0, \"/content/SMARTS/\")"
   ]
  },
  {
   "cell_type": "markdown",
   "metadata": {
    "id": "s7UtcphinvNv"
   },
   "source": [
    "**Import Base Modules**"
   ]
  },
  {
   "cell_type": "code",
   "execution_count": null,
   "metadata": {
    "id": "HsnDWYx_ngdc"
   },
   "outputs": [],
   "source": [
    "import gym\n",
    "\n",
    "from smarts.zoo import registry\n",
    "from smarts.env.wrappers.episode_logger import EpisodeLogger"
   ]
  },
  {
   "cell_type": "markdown",
   "metadata": {
    "id": "LFoG7Z-FobPP"
   },
   "source": [
    "**Run an episode**"
   ]
  },
  {
   "cell_type": "code",
   "execution_count": null,
   "metadata": {
    "colab": {
     "base_uri": "https://localhost:8080/",
     "height": 501
    },
    "id": "BBWj3wbAso3J",
    "outputId": "63c1d665-b4a5-43b5-d926-b02b5bcce08f"
   },
   "outputs": [],
   "source": [
    "from smarts.core.utils.episodes import episode_range\n",
    "from smarts.env.wrappers.record_video import RecordVideo\n",
    "\n",
    "import examples.env.figure_eight_env\n",
    "\n",
    "env = gym.make(\"figure_eight-v0\")\n",
    "env: gym.Env = RecordVideo(\n",
    "    env, video_folder=\"videos\", video_length=40, step_trigger=lambda s: s % 100 == 0\n",
    ")\n",
    "env: gym.Env = EpisodeLogger(env)\n",
    "\n",
    "import zoo.policies.keep_lane_agent\n",
    "\n",
    "agent = registry.make_agent(\"zoo.policies:keep-lane-agent-v0\")\n",
    "\n",
    "for episode in episode_range(max_steps=450):\n",
    "    observation = env.reset()\n",
    "    reward, done, info = None, False, None\n",
    "    while episode.continues(observation, reward, done, info):\n",
    "        action = agent.act(observation)\n",
    "        observation, reward, done, info = env.step(action)\n",
    "\n",
    "env.close()"
   ]
  },
  {
   "cell_type": "code",
   "execution_count": null,
   "metadata": {},
   "outputs": [],
   "source": [
    "from smarts.env.wrappers.utils.rendering import show_notebook_videos\n",
    "\n",
    "show_notebook_videos()"
   ]
  }
 ],
 "metadata": {
  "colab": {
   "name": "mock_demo.ipynb",
   "provenance": []
  },
  "kernelspec": {
   "display_name": "Python 3.8.10 ('.venv': venv)",
   "language": "python",
   "name": "python3"
  },
  "language_info": {
   "codemirror_mode": {
    "name": "ipython",
    "version": 3
   },
   "file_extension": ".py",
   "mimetype": "text/x-python",
   "name": "python",
   "nbconvert_exporter": "python",
   "pygments_lexer": "ipython3",
   "version": "3.8.10"
  },
  "vscode": {
   "interpreter": {
    "hash": "94261e0756b8490ed1a668b85ed1da8c98261f1072b842b18d4e3da7517b644d"
   }
  }
 },
 "nbformat": 4,
 "nbformat_minor": 0
}
