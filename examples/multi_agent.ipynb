{
 "cells": [
  {
   "cell_type": "markdown",
   "metadata": {},
   "source": [
    "# Example: Multi Agent"
   ]
  },
  {
   "cell_type": "markdown",
   "metadata": {},
   "source": [
    "Install SMARTS."
   ]
  },
  {
   "cell_type": "code",
   "execution_count": null,
   "metadata": {},
   "outputs": [],
   "source": [
    "# Install SMARTS\n",
    "!git clone https://github.com/huawei-noah/SMARTS /content/SMARTS\n",
    "!cd SMARTS && ls && git checkout ipynb-test-deps && pip install .[camera-obs]"
   ]
  },
  {
   "cell_type": "markdown",
   "metadata": {},
   "source": [
    "Build the scenario."
   ]
  },
  {
   "cell_type": "code",
   "execution_count": null,
   "metadata": {},
   "outputs": [],
   "source": [
    "# Build scenarios\n",
    "!scl scenario build-all --clean /content/SMARTS/scenarios/figure_eight"
   ]
  },
  {
   "cell_type": "markdown",
   "metadata": {},
   "source": [
    "Define the agent."
   ]
  },
  {
   "cell_type": "code",
   "execution_count": null,
   "metadata": {},
   "outputs": [],
   "source": [
    "from smarts.core.agent import Agent\n",
    "\n",
    "\n",
    "class KeepLaneAgent(Agent):\n",
    "    def act(self, obs):\n",
    "        return \"keep_lane\""
   ]
  },
  {
   "cell_type": "markdown",
   "metadata": {},
   "source": [
    "Define the environment loop."
   ]
  },
  {
   "cell_type": "code",
   "execution_count": null,
   "metadata": {},
   "outputs": [],
   "source": [
    "import gym\n",
    "\n",
    "from smarts.core.agent import AgentSpec\n",
    "from smarts.core.agent_interface import AgentInterface, AgentType\n",
    "from smarts.core.utils.episodes import episodes\n",
    "\n",
    "N_AGENTS = 4\n",
    "AGENT_IDS = [\"Agent %i\" % i for i in range(N_AGENTS)]\n",
    "\n",
    "\n",
    "def main(scenarios, num_episodes, max_episode_steps=None):\n",
    "    agent_specs = {\n",
    "        agent_id: AgentSpec(\n",
    "            interface=AgentInterface.from_type(\n",
    "                AgentType.Laner, max_episode_steps=max_episode_steps\n",
    "            ),\n",
    "            agent_builder=KeepLaneAgent,\n",
    "        )\n",
    "        for agent_id in AGENT_IDS\n",
    "    }\n",
    "\n",
    "    env = gym.make(\n",
    "        \"smarts.env:hiway-v0\",\n",
    "        scenarios=scenarios,\n",
    "        agent_specs=agent_specs,\n",
    "        headless=True,\n",
    "        sumo_headless=True,\n",
    "    )\n",
    "\n",
    "    for episode in episodes(n=num_episodes):\n",
    "        agents = {\n",
    "            agent_id: agent_spec.build_agent()\n",
    "            for agent_id, agent_spec in agent_specs.items()\n",
    "        }\n",
    "        observations = env.reset()\n",
    "        episode.record_scenario(env.scenario_log)\n",
    "\n",
    "        dones = {\"__all__\": False}\n",
    "        while not dones[\"__all__\"]:\n",
    "            actions = {\n",
    "                agent_id: agents[agent_id].act(agent_obs)\n",
    "                for agent_id, agent_obs in observations.items()\n",
    "            }\n",
    "\n",
    "            observations, rewards, dones, infos = env.step(actions)\n",
    "            episode.record_step(observations, rewards, dones, infos)\n",
    "\n",
    "    env.close()"
   ]
  },
  {
   "cell_type": "markdown",
   "metadata": {},
   "source": [
    "Run the example."
   ]
  },
  {
   "cell_type": "code",
   "execution_count": null,
   "metadata": {},
   "outputs": [],
   "source": [
    "main(\n",
    "    scenarios=[\"/content/SMARTS/scenarios/figure_eight\"],\n",
    "    num_episodes=3,\n",
    "    max_episode_steps=100,\n",
    ")"
   ]
  }
 ],
 "metadata": {
  "interpreter": {
   "hash": "fd69f43f58546b570e94fd7eba7b65e6bcc7a5bbc4eab0408017d18902915d69"
  },
  "kernelspec": {
   "display_name": "Python 3.7.5 64-bit",
   "language": "python",
   "name": "python3"
  },
  "language_info": {
   "codemirror_mode": {
    "name": "ipython",
    "version": 3
   },
   "file_extension": ".py",
   "mimetype": "text/x-python",
   "name": "python",
   "nbconvert_exporter": "python",
   "pygments_lexer": "ipython3",
   "version": "3.7.12"
  },
  "orig_nbformat": 4
 },
 "nbformat": 4,
 "nbformat_minor": 2
}
