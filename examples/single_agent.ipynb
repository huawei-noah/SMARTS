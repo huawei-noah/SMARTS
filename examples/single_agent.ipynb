{
 "cells": [
  {
   "cell_type": "markdown",
   "metadata": {},
   "source": [
    "# Example: Single Agent"
   ]
  },
  {
   "cell_type": "markdown",
   "metadata": {},
   "source": [
    "Install SMARTS."
   ]
  },
  {
   "cell_type": "code",
   "execution_count": null,
   "metadata": {},
   "outputs": [],
   "source": [
    "# Install SMARTS\n",
    "!git clone https://github.com/huawei-noah/SMARTS /content/SMARTS\n",
    "!cd SMARTS && ls && git checkout ipynb-test-deps && pip install .[camera-obs]"
   ]
  },
  {
   "cell_type": "markdown",
   "metadata": {},
   "source": [
    "Build the scenario."
   ]
  },
  {
   "cell_type": "code",
   "execution_count": null,
   "metadata": {},
   "outputs": [],
   "source": [
    "# Build scenarios\n",
    "!scl scenario build-all --clean /content/SMARTS/scenarios/figure_eight"
   ]
  },
  {
   "cell_type": "markdown",
   "metadata": {},
   "source": [
    "Define the agent."
   ]
  },
  {
   "cell_type": "code",
   "execution_count": null,
   "metadata": {},
   "outputs": [],
   "source": [
    "from smarts.core.agent import Agent\n",
    "from smarts.core.sensors import Observation\n",
    "\n",
    "\n",
    "class ChaseViaPointsAgent(Agent):\n",
    "    def act(self, obs: Observation):\n",
    "        if (\n",
    "            len(obs.via_data.near_via_points) < 1\n",
    "            or obs.ego_vehicle_state.road_id != obs.via_data.near_via_points[0].road_id\n",
    "        ):\n",
    "            return (obs.waypoint_paths[0][0].speed_limit, 0)\n",
    "\n",
    "        nearest = obs.via_data.near_via_points[0]\n",
    "        if nearest.lane_index == obs.ego_vehicle_state.lane_index:\n",
    "            return (nearest.required_speed, 0)\n",
    "\n",
    "        return (\n",
    "            nearest.required_speed,\n",
    "            1 if nearest.lane_index > obs.ego_vehicle_state.lane_index else -1,\n",
    "        )"
   ]
  },
  {
   "cell_type": "markdown",
   "metadata": {},
   "source": [
    "Define the environment loop."
   ]
  },
  {
   "cell_type": "code",
   "execution_count": null,
   "metadata": {},
   "outputs": [],
   "source": [
    "import gym\n",
    "\n",
    "from smarts.core.agent import AgentSpec\n",
    "from smarts.core.agent_interface import AgentInterface, AgentType\n",
    "from smarts.core.utils.episodes import episodes\n",
    "from smarts.env.wrappers.single_agent import SingleAgent\n",
    "\n",
    "\n",
    "def main(scenarios, num_episodes, max_episode_steps=None):\n",
    "    agent_spec = AgentSpec(\n",
    "        interface=AgentInterface.from_type(\n",
    "            AgentType.LanerWithSpeed,\n",
    "            max_episode_steps=max_episode_steps,\n",
    "        ),\n",
    "        agent_builder=ChaseViaPointsAgent,\n",
    "    )\n",
    "\n",
    "    env = gym.make(\n",
    "        \"smarts.env:hiway-v0\",\n",
    "        scenarios=scenarios,\n",
    "        agent_specs={\"SingleAgent\": agent_spec},\n",
    "        headless=True,\n",
    "        sumo_headless=True,\n",
    "    )\n",
    "\n",
    "    # Convert `env.step()` and `env.reset()` from multi-agent interface to\n",
    "    # single-agent interface.\n",
    "    env = SingleAgent(env=env)\n",
    "\n",
    "    for episode in episodes(n=num_episodes):\n",
    "        agent = agent_spec.build_agent()\n",
    "        observation = env.reset()\n",
    "        episode.record_scenario(env.scenario_log)\n",
    "\n",
    "        done = False\n",
    "        while not done:\n",
    "            agent_action = agent.act(observation)\n",
    "            observation, reward, done, info = env.step(agent_action)\n",
    "            episode.record_step(observation, reward, done, info)\n",
    "\n",
    "    env.close()"
   ]
  },
  {
   "cell_type": "markdown",
   "metadata": {},
   "source": [
    "Run the example."
   ]
  },
  {
   "cell_type": "code",
   "execution_count": null,
   "metadata": {},
   "outputs": [],
   "source": [
    "main(\n",
    "    scenarios=[\"/content/SMARTS/scenarios/figure_eight\"],\n",
    "    num_episodes=3,\n",
    "    max_episode_steps=100,\n",
    ")"
   ]
  }
 ],
 "metadata": {
  "interpreter": {
   "hash": "fd69f43f58546b570e94fd7eba7b65e6bcc7a5bbc4eab0408017d18902915d69"
  },
  "kernelspec": {
   "display_name": "Python 3.7.5 64-bit",
   "language": "python",
   "name": "python3"
  },
  "language_info": {
   "codemirror_mode": {
    "name": "ipython",
    "version": 3
   },
   "file_extension": ".py",
   "mimetype": "text/x-python",
   "name": "python",
   "nbconvert_exporter": "python",
   "pygments_lexer": "ipython3",
   "version": "3.7.5"
  },
  "orig_nbformat": 4
 },
 "nbformat": 4,
 "nbformat_minor": 2
}
