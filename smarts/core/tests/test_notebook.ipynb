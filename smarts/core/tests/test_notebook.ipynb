{
 "metadata": {
  "language_info": {
   "codemirror_mode": {
    "name": "ipython",
    "version": 3
   },
   "file_extension": ".py",
   "mimetype": "text/x-python",
   "name": "python",
   "nbconvert_exporter": "python",
   "pygments_lexer": "ipython3",
   "version": "3.7.5-final"
  },
  "orig_nbformat": 2,
  "kernelspec": {
   "name": "python3",
   "display_name": "Python 3",
   "language": "python"
  }
 },
 "nbformat": 4,
 "nbformat_minor": 2,
 "cells": [
  {
   "cell_type": "code",
   "execution_count": null,
   "metadata": {},
   "outputs": [],
   "source": [
    "from smarts.core.tests.test_notebook import run_scenario\n",
    "import os\n",
    "import sys\n",
    "\n",
    "def find(path):\n",
    "    for dirname in sys.path:\n",
    "        attempt = os.path.join(dirname, path)\n",
    "        if os.path.isdir(attempt):\n",
    "            return attempt\n",
    "    return None\n",
    "\n",
    "scenario_path = find('scenarios/loop')"
   ]
  },
  {
   "cell_type": "code",
   "execution_count": null,
   "metadata": {},
   "outputs": [],
   "source": [
    "import sys\n",
    "run_scenario([scenario_path], \"test_notebook\", True, 1, 32)"
   ]
  }
 ]
}