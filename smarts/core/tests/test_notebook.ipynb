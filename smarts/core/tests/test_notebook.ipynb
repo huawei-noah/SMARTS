{
 "cells": [
  {
   "cell_type": "code",
   "execution_count": null,
   "metadata": {},
   "outputs": [],
   "source": [
    "from pathlib import Path\n",
    "import smarts\n",
    "from smarts.core.tests.test_notebook import run_scenario\n",
    "\n",
    "scenario_path = Path(smarts.__file__).parents[1] / \"scenarios/sumo/loop\""
   ]
  },
  {
   "cell_type": "code",
   "execution_count": null,
   "metadata": {
    "execution": {
     "timeout": -1
    }
   },
   "outputs": [],
   "source": [
    "run_scenario([scenario_path], \"test_notebook\", True, 1, 32, 50)"
   ]
  }
 ],
 "metadata": {
  "execution": {
   "timeout": -1
  },
  "kernelspec": {
   "display_name": "Python 3",
   "language": "python",
   "name": "python3"
  },
  "language_info": {
   "codemirror_mode": {
    "name": "ipython",
    "version": 3
   },
   "file_extension": ".py",
   "mimetype": "text/x-python",
   "name": "python",
   "nbconvert_exporter": "python",
   "pygments_lexer": "ipython3",
   "version": "3.7.5-final"
  },
  "orig_nbformat": 2
 },
 "nbformat": 4,
 "nbformat_minor": 2
}
